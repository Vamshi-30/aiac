{
  "nbformat": 4,
  "nbformat_minor": 0,
  "metadata": {
    "colab": {
      "provenance": [],
      "authorship_tag": "ABX9TyMAz33ngZS6demExTWjQ50m",
      "include_colab_link": true
    },
    "kernelspec": {
      "name": "python3",
      "display_name": "Python 3"
    },
    "language_info": {
      "name": "python"
    }
  },
  "cells": [
    {
      "cell_type": "markdown",
      "metadata": {
        "id": "view-in-github",
        "colab_type": "text"
      },
      "source": [
        "<a href=\"https://colab.research.google.com/github/Vamshi-30/aiac/blob/main/lab3_3.ipynb\" target=\"_parent\"><img src=\"https://colab.research.google.com/assets/colab-badge.svg\" alt=\"Open In Colab\"/></a>"
      ]
    },
    {
      "cell_type": "code",
      "execution_count": 1,
      "metadata": {
        "colab": {
          "base_uri": "https://localhost:8080/",
          "height": 106
        },
        "id": "pkxek5nzkk8X",
        "outputId": "5948837f-639f-456f-9d25-af5cccff3272"
      },
      "outputs": [
        {
          "output_type": "error",
          "ename": "SyntaxError",
          "evalue": "invalid syntax (ipython-input-2419846249.py, line 1)",
          "traceback": [
            "\u001b[0;36m  File \u001b[0;32m\"/tmp/ipython-input-2419846249.py\"\u001b[0;36m, line \u001b[0;32m1\u001b[0m\n\u001b[0;31m    Try 3 different prompts to generate a factorial function.\u001b[0m\n\u001b[0m        ^\u001b[0m\n\u001b[0;31mSyntaxError\u001b[0m\u001b[0;31m:\u001b[0m invalid syntax\n"
          ]
        }
      ],
      "source": [
        "Try 3 different prompts to generate a factorial function."
      ]
    },
    {
      "cell_type": "code",
      "metadata": {
        "id": "45f84fa1"
      },
      "source": [
        "# Prompt 1: Standard request\n",
        "prompt_1 = \"Write a Python function that calculates the factorial of a non-negative integer.\"\n",
        "\n",
        "# Prompt 2: Specify return type and edge case\n",
        "prompt_2 = \"Create a Python function called `calculate_factorial` that takes a non-negative integer as input and returns its factorial. Handle the case for 0!\"\n",
        "\n",
        "# Prompt 3: Include doctests for examples\n",
        "prompt_3 = \"\"\"Write a Python function `factorial` that computes the factorial of an integer. Include doctests to show how it works with 0, 1, and 5.\n",
        "\n",
        "For example:\n",
        ">>> factorial(0)\n",
        "1\n",
        ">>> factorial(1)\n",
        "1\n",
        ">>> factorial(5)\n",
        "120\n",
        "\"\"\"\n",
        "\n",
        "print(\"Prompt 1:\")\n",
        "print(prompt_1)\n",
        "print(\"\\nPrompt 2:\")\n",
        "print(prompt_2)\n",
        "print(\"\\nPrompt 3:\")\n",
        "print(prompt_3)"
      ],
      "execution_count": null,
      "outputs": []
    },
    {
      "cell_type": "markdown",
      "source": [
        "This code cell defines three different prompts (prompt_1, prompt_2, and prompt_3) that could be used to generate a Python function for calculating the factorial of a non-negative integer. Each prompt is designed to elicit a different response from a code generation model:\n",
        "\n",
        "prompt_1: This is a basic request for a factorial function.\n",
        "prompt_2: This prompt is more specific, requesting a function named calculate_factorial, specifying the input and return types, and explicitly asking to handle the case where the input is 0 (since 0! = 1).\n",
        "prompt_3: This prompt includes doctests, which are examples embedded within the docstring of the function. When executed, these doctests verify that the function's output matches the expected output for the given inputs (0, 1, and 5). This prompt is useful for models that can generate code with embedded tests.\n",
        "Finally, the code prints each prompt to the console.\n",
        "\n",
        "\n",
        "\n"
      ],
      "metadata": {
        "id": "EsalFayFlIQ6"
      }
    },
    {
      "cell_type": "markdown",
      "source": [
        "Provide a clear example input-output prompt to generate a sorting function."
      ],
      "metadata": {
        "id": "iJ7jkPfilQQa"
      }
    },
    {
      "cell_type": "code",
      "metadata": {
        "id": "8c3e960d"
      },
      "source": [
        "input_output_prompt = \"\"\"\n",
        "Write a Python function called `sort_list` that takes a list of numbers as input and returns a new list with the numbers sorted in ascending order.\n",
        "\n",
        "Input:\n",
        "[3, 1, 4, 1, 5, 9, 2, 6]\n",
        "\n",
        "Output:\n",
        "[1, 1, 2, 3, 4, 5, 6, 9]\n",
        "\"\"\"\n",
        "\n",
        "print(\"Input-Output Prompt for Sorting Function:\")\n",
        "print(input_output_prompt)"
      ],
      "execution_count": null,
      "outputs": []
    },
    {
      "cell_type": "markdown",
      "source": [
        "This code cell defines a variable input_output_prompt that contains a multiline string. This string is an example of an input-output prompt designed to generate a Python function that sorts a list of numbers in ascending order.\n",
        "\n",
        "The prompt clearly specifies:\n",
        "\n",
        "The desired function name (sort_list).\n",
        "The input type (a list of numbers).\n",
        "The output type (a new list with the numbers sorted).\n",
        "A clear example of an input list and its corresponding sorted output list.\n",
        "Finally, the code prints the input_output_prompt to the console, making it easy to see the generated prompt.\n",
        "\n"
      ],
      "metadata": {
        "id": "Y6XeQvrtlf16"
      }
    },
    {
      "cell_type": "markdown",
      "source": [
        "Start with the vague prompt “Generate python code to calculate power bill” and\n",
        "improve it step-by-step"
      ],
      "metadata": {
        "id": "m1ytTDizmMvZ"
      }
    },
    {
      "cell_type": "markdown",
      "metadata": {
        "id": "00657b71"
      },
      "source": [
        "**Step 3: Refine the prompt - Step 1 (Input Details)**\n",
        "\n",
        "We will refine the prompt to include specific input details: electricity consumption in kWh and the rate per kWh.\n",
        "\n",
        "**Improved Prompt:**\n",
        "\n",
        "\"Generate python code to calculate a power bill given the electricity consumption in kilowatt-hours (kWh) and the rate per kWh.\""
      ]
    },
    {
      "cell_type": "code",
      "metadata": {
        "id": "7825d63e"
      },
      "source": [
        "# Improved Prompt 1\n",
        "improved_prompt_1 = \"Generate python code to calculate a power bill given the electricity consumption in kilowatt-hours (kWh) and the rate per kWh.\"\n",
        "print(f\"Improved prompt (Input Details): {improved_prompt_1}\")"
      ],
      "execution_count": null,
      "outputs": []
    },
    {
      "cell_type": "markdown",
      "metadata": {
        "id": "85851ae8"
      },
      "source": [
        "**Code generated from Improved Prompt 1 (Conceptual):**\n",
        "\n",
        "Based on this prompt, a code generation model would likely produce a function that takes `consumption_kwh` and `rate_per_kwh` as inputs and returns the calculated bill."
      ]
    },
    {
      "cell_type": "code",
      "metadata": {
        "id": "256dd552"
      },
      "source": [
        "def calculate_power_bill_flat_rate(consumption_kwh, rate_per_kwh):\n",
        "  \"\"\"Calculates the power bill based on consumption and a flat rate.\"\"\"\n",
        "  return consumption_kwh * rate_per_kwh\n",
        "\n",
        "# Example usage (assuming the model also provides example usage)\n",
        "consumption = 150  # kWh\n",
        "rate = 0.12      # $/kWh\n",
        "bill_amount = calculate_power_bill_flat_rate(consumption, rate)\n",
        "print(f\"Consumption: {consumption} kWh, Rate: ${rate}/kWh\")\n",
        "print(f\"Estimated Power Bill: ${bill_amount:.2f}\")"
      ],
      "execution_count": null,
      "outputs": []
    },
    {
      "cell_type": "markdown",
      "source": [
        "The function takes two arguments: consumption_kwh (electricity consumption in kilowatt-hours) and rate_per_kwh (the cost per kilowatt-hour).\n",
        "It calculates the bill by multiplying the consumption by the rate and returns the result.\n",
        "The code then provides an example of how to use the function with sample values for consumption and rate, and prints the estimated power bill formatted to two decimal places.\n"
      ],
      "metadata": {
        "id": "P6Mn5Uqwmd0T"
      }
    },
    {
      "cell_type": "markdown",
      "source": [
        "Write structured comments to help AI generate two linked functions (e.g., login_user()\n",
        "and register_user())"
      ],
      "metadata": {
        "id": "uDinq7FKmqC2"
      }
    },
    {
      "cell_type": "markdown",
      "metadata": {
        "id": "c2279722"
      },
      "source": [
        "This code block provides structured comments to help an AI model generate two linked Python functions: `login_user` and `register_user`. The comments describe the purpose of each function, their inputs, expected outputs, and how they might interact in a user authentication system."
      ]
    },
    {
      "cell_type": "code",
      "metadata": {
        "id": "e7a533e9"
      },
      "source": [
        "# Function 1: register_user\n",
        "# Purpose: To register a new user in the system.\n",
        "# Inputs: username (string), password (string)\n",
        "# Expected Output: True if registration is successful, False otherwise.\n",
        "# Side Effects: Should ideally store the new user's credentials securely (e.g., in a database or file).\n",
        "# Relationship to other functions: Should prevent registration if the username already exists.\n",
        "def register_user(username, password):\n",
        "  # AI should generate code to:\n",
        "  # 1. Check if the username already exists.\n",
        "  # 2. If not, securely store the username and a hashed version of the password.\n",
        "  # 3. Return True on success, False on failure (e.g., username taken).\n",
        "  pass # Placeholder - AI should replace this with actual implementation\n",
        "\n",
        "# Function 2: login_user\n",
        "# Purpose: To authenticate an existing user.\n",
        "# Inputs: username (string), password (string)\n",
        "# Expected Output: True if authentication is successful, False otherwise.\n",
        "# Relationship to other functions: Should verify the provided credentials against stored user data created by register_user.\n",
        "def login_user(username, password):\n",
        "  # AI should generate code to:\n",
        "  # 1. Retrieve the stored hashed password for the given username.\n",
        "  # 2. Hash the provided password and compare it to the stored hashed password.\n",
        "  # 3. Return True if the passwords match, False otherwise (e.g., username not found or incorrect password).\n",
        "  pass # Placeholder - AI should replace this with actual implementation\n",
        "\n",
        "# Example Usage (Optional - AI might also generate this based on the comments)\n",
        "# if register_user(\"test_user\", \"secure_password123\"):\n",
        "#   print(\"User registered successfully.\")\n",
        "#   if login_user(\"test_user\", \"secure_password123\"):\n",
        "#     print(\"User logged in successfully.\")\n",
        "#   else:\n",
        "#     print(\"Login failed.\")\n",
        "# else:\n",
        "#   print(\"Registration failed (user might already exist).\")"
      ],
      "execution_count": 2,
      "outputs": []
    },
    {
      "cell_type": "markdown",
      "source": [
        "This code block provides structured comments to help an AI model generate two linked Python functions: login_user and register_user. The comments describe the purpose of each function, their inputs, expected outputs, and how they might interact in a user authentication system.\n",
        "\n"
      ],
      "metadata": {
        "id": "xOBWPswcm3SV"
      }
    },
    {
      "cell_type": "markdown",
      "source": [
        "Analyzing Prompt Specificity: Improving Temperature Conversion Function with\n",
        "Clear Instructions"
      ],
      "metadata": {
        "id": "t8OepmQjm9ok"
      }
    },
    {
      "cell_type": "markdown",
      "metadata": {
        "id": "3c8efbc5"
      },
      "source": [
        "**Starting Point: A simple temperature conversion function**\n",
        "\n",
        "Here's a basic Python function to convert Celsius to Fahrenheit with a minimal docstring."
      ]
    },
    {
      "cell_type": "code",
      "metadata": {
        "colab": {
          "base_uri": "https://localhost:8080/"
        },
        "id": "0a317fc8",
        "outputId": "9fc7321a-0e63-458c-8811-dab9b7d4b57c"
      },
      "source": [
        "def celsius_to_fahrenheit(celsius):\n",
        "  \"\"\"Converts Celsius to Fahrenheit.\"\"\"\n",
        "  fahrenheit = (celsius * 9/5) + 32\n",
        "  return fahrenheit\n",
        "\n",
        "# Example usage\n",
        "celsius_temp = 25\n",
        "fahrenheit_temp = celsius_to_fahrenheit(celsius_temp)\n",
        "print(f\"{celsius_temp}°C is equal to {fahrenheit_temp}°F\")"
      ],
      "execution_count": 3,
      "outputs": [
        {
          "output_type": "stream",
          "name": "stdout",
          "text": [
            "25°C is equal to 77.0°F\n"
          ]
        }
      ]
    },
    {
      "cell_type": "markdown",
      "source": [
        "This code cell defines a simple Python function called celsius_to_fahrenheit that converts a temperature from Celsius to Fahrenheit.\n",
        "\n",
        "It takes one argument, celsius, which is the temperature in Celsius.\n",
        "Inside the function, it applies the standard formula (celsius * 9/5) + 32 to perform the conversion.\n",
        "The calculated Fahrenheit temperature is then returned.\n",
        "The code also includes a simple example demonstrating how to use the function with a Celsius temperature of 25 degrees and prints the equivalent temperature in Fahrenheit.\n"
      ],
      "metadata": {
        "id": "Qy3o6Hj5nKDp"
      }
    }
  ]
}