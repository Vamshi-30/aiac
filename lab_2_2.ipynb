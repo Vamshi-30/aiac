{
  "nbformat": 4,
  "nbformat_minor": 0,
  "metadata": {
    "colab": {
      "provenance": [],
      "authorship_tag": "ABX9TyOCnNPxp8rHNOqiiCFOz0PI",
      "include_colab_link": true
    },
    "kernelspec": {
      "name": "python3",
      "display_name": "Python 3"
    },
    "language_info": {
      "name": "python"
    }
  },
  "cells": [
    {
      "cell_type": "markdown",
      "metadata": {
        "id": "view-in-github",
        "colab_type": "text"
      },
      "source": [
        "<a href=\"https://colab.research.google.com/github/Vamshi-30/aiac/blob/main/lab_2_2.ipynb\" target=\"_parent\"><img src=\"https://colab.research.google.com/assets/colab-badge.svg\" alt=\"Open In Colab\"/></a>"
      ]
    },
    {
      "cell_type": "code",
      "execution_count": null,
      "metadata": {
        "id": "jA-CCY5YxeUK"
      },
      "outputs": [],
      "source": []
    },
    {
      "cell_type": "markdown",
      "source": [
        "task0;bult a python function to check the given number is prime or not"
      ],
      "metadata": {
        "id": "-Uzb7s36xfDL"
      }
    },
    {
      "cell_type": "code",
      "metadata": {
        "colab": {
          "base_uri": "https://localhost:8080/"
        },
        "id": "2adba17f",
        "outputId": "5d1a05af-2f66-4978-f37b-640e28c8dbb9"
      },
      "source": [
        "def is_prime(number):\n",
        "    \"\"\"\n",
        "    Checks if a given number is prime.\n",
        "\n",
        "    Args:\n",
        "        number: An integer.\n",
        "\n",
        "    Returns:\n",
        "        True if the number is prime, False otherwise.\n",
        "    \"\"\"\n",
        "    if number <= 1:\n",
        "        return False  # Numbers less than or equal to 1 are not prime\n",
        "    if number <= 3:\n",
        "        return True  # 2 and 3 are prime numbers\n",
        "    if number % 2 == 0 or number % 3 == 0:\n",
        "        return False  # Multiples of 2 or 3 are not prime\n",
        "\n",
        "    # Check for prime numbers from 5 onwards\n",
        "    i = 5\n",
        "    while i * i <= number:\n",
        "        if number % i == 0 or number % (i + 2) == 0:\n",
        "            return False  # Found a divisor, so it's not prime\n",
        "        i += 6\n",
        "\n",
        "    return True  # No divisors found, the number is prime\n",
        "\n",
        "# Example usage:\n",
        "num_to_check = 17\n",
        "if is_prime(num_to_check):\n",
        "    print(f\"{num_to_check} is a prime number\")\n",
        "else:\n",
        "    print(f\"{num_to_check} is not a prime number\")\n",
        "\n",
        "num_to_check = 10\n",
        "if is_prime(num_to_check):\n",
        "    print(f\"{num_to_check} is a prime number\")\n",
        "else:\n",
        "    print(f\"{num_to_check} is not a prime number\")"
      ],
      "execution_count": 1,
      "outputs": [
        {
          "output_type": "stream",
          "name": "stdout",
          "text": [
            "17 is a prime number\n",
            "10 is not a prime number\n"
          ]
        }
      ]
    }
  ]
}