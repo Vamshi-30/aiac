{
  "nbformat": 4,
  "nbformat_minor": 0,
  "metadata": {
    "colab": {
      "provenance": [],
      "authorship_tag": "ABX9TyP8jPEOk3ZgStWQQKX9/iyb",
      "include_colab_link": true
    },
    "kernelspec": {
      "name": "python3",
      "display_name": "Python 3"
    },
    "language_info": {
      "name": "python"
    }
  },
  "cells": [
    {
      "cell_type": "markdown",
      "metadata": {
        "id": "view-in-github",
        "colab_type": "text"
      },
      "source": [
        "<a href=\"https://colab.research.google.com/github/Vamshi-30/aiac/blob/main/lab%2C2_0.ipynb\" target=\"_parent\"><img src=\"https://colab.research.google.com/assets/colab-badge.svg\" alt=\"Open In Colab\"/></a>"
      ]
    },
    {
      "cell_type": "code",
      "execution_count": null,
      "metadata": {
        "id": "lPISPs3_4yeA"
      },
      "outputs": [],
      "source": []
    },
    {
      "cell_type": "markdown",
      "source": [
        "task0;bult a python function to check a number prime or not"
      ],
      "metadata": {
        "id": "USYbcsEZ5HT_"
      }
    },
    {
      "cell_type": "code",
      "metadata": {
        "colab": {
          "base_uri": "https://localhost:8080/"
        },
        "id": "c6a33e66",
        "outputId": "24e0d57e-d246-44d7-ed9a-756674d89e2d"
      },
      "source": [
        "def is_prime(number):\n",
        "  \"\"\"Checks if a given number is a prime number.\"\"\"\n",
        "  if number <= 1:\n",
        "    return False  # Numbers less than or equal to 1 are not prime\n",
        "  for i in range(2, int(number**0.5) + 1):\n",
        "    if number % i == 0:\n",
        "      return False  # If the number is divisible by any number in this range, it's not prime\n",
        "  return True  # If no divisors are found, the number is prime\n",
        "\n",
        "# Example usage:\n",
        "print(is_prime(7))\n",
        "print(is_prime(10))"
      ],
      "execution_count": 2,
      "outputs": [
        {
          "output_type": "stream",
          "name": "stdout",
          "text": [
            "True\n",
            "False\n"
          ]
        }
      ]
    },
    {
      "cell_type": "markdown",
      "source": [
        "Certainly! This code defines a Python function called is_prime that determines if a given number is a prime number. Here's a breakdown:\n",
        "\n",
        "def is_prime(number):: This line defines the function is_prime that takes one argument, number.\n",
        "\"\"\"Checks if a given number is a prime number.\"\"\": This is a docstring, which explains what the function does.\n",
        "if number <= 1:: This checks if the input number is less than or equal to 1. Prime numbers are defined as being greater than 1, so if the number is 1 or less, the function immediately returns False.\n",
        "`for i in range(2, int(number0.5) + 1):**: This is aforloop that iterates through a range of numbers starting from 2 up to the square root of the inputnumber` (inclusive). We only need to check for divisors up to the square root because if a number has a divisor greater than its square root, it must also have a divisor less than its square root.\n",
        "if number % i == 0:: Inside the loop, this checks if the input number is divisible by the current number i in the range. If it is, it means number has a divisor other than 1 and itself, so it's not prime, and the function returns False.\n",
        "return True: If the loop finishes without finding any divisors (i.e., the if number % i == 0: condition was never met), it means the number is only divisible by 1 and itself, so it's prime, and the function returns True.\n",
        "# Example usage:: This is a comment indicating the following lines are examples of how to use the function.\n",
        "print(is_prime(7)): This calls the is_prime function with the number 7 and prints the returned value (which will be True because 7 is prime).\n",
        "print(is_prime(10)): This calls the is_prime function with the number 10 and prints the returned value (which will be False because 10 is not prime).\n"
      ],
      "metadata": {
        "id": "6m66h7-g5659"
      }
    },
    {
      "cell_type": "markdown",
      "source": [
        "Use Gemini in Colab to write a function that filters out all negative numbers from a\n",
        "given list"
      ],
      "metadata": {
        "id": "YC6Epkoa6KuS"
      }
    },
    {
      "cell_type": "code",
      "metadata": {
        "colab": {
          "base_uri": "https://localhost:8080/"
        },
        "id": "063a9c88",
        "outputId": "2b5e4977-f801-4d97-d2d2-53b40d8d8ad1"
      },
      "source": [
        "def filter_negative_numbers(input_list):\n",
        "  \"\"\"Filters out all negative numbers from a list.\"\"\"\n",
        "  return [number for number in input_list if number >= 0]\n",
        "\n",
        "# Example usage:\n",
        "my_list = [1, -2, 3, -4, 5, -6, 7]\n",
        "filtered_list = filter_negative_numbers(my_list)\n",
        "print(filtered_list)"
      ],
      "execution_count": 3,
      "outputs": [
        {
          "output_type": "stream",
          "name": "stdout",
          "text": [
            "[1, 3, 5, 7]\n"
          ]
        }
      ]
    },
    {
      "cell_type": "markdown",
      "source": [],
      "metadata": {
        "id": "RY8khOl664Ge"
      }
    },
    {
      "cell_type": "markdown",
      "source": [
        "Absolutely! The code you selected defines a Python function called filter_negative_numbers that does exactly what its name suggests: it filters out negative numbers from a list. Here's how it works:\n",
        "\n",
        "def filter_negative_numbers(input_list):: This line defines the function filter_negative_numbers and specifies that it takes one argument, which is expected to be a list, named input_list.\n",
        "\"\"\"Filters out all negative numbers from a list.\"\"\": This is a docstring that briefly explains the purpose of the function.\n",
        "return [number for number in input_list if number >= 0]: This is a list comprehension, a concise way to create lists in Python. Let's break it down:\n",
        "[number ... ]: This indicates that we are creating a new list.\n",
        "for number in input_list: This part iterates through each element in the input_list, assigning the current element to the variable number in each iteration.\n",
        "if number >= 0: This is the filtering condition. For each number in the input_list, this condition checks if the number is greater than or equal to 0 (i.e., not negative).\n",
        "Only the number values for which the if condition is True are included in the new list that is being created.\n",
        "# Example usage:: This is a comment indicating the following lines demonstrate how to use the function.\n",
        "my_list = [1, -2, 3, -4, 5, -6, 7]: This line creates a sample list named my_list containing both positive and negative numbers.\n",
        "filtered_list = filter_negative_numbers(my_list): This line calls the filter_negative_numbers function with my_list as input and assigns the returned list (containing only the non-negative numbers) to the variable filtered_list.\n",
        "print(filtered_list): This line prints the contents of the filtered_list, which in this example will be [1, 3, 5, 7].\n"
      ],
      "metadata": {
        "id": "sdWMP0NK6rMX"
      }
    },
    {
      "cell_type": "markdown",
      "source": [
        "Ask Gemini to generate code that reads a text file and counts the frequency of each\n",
        "word. Then ask it to explain the code."
      ],
      "metadata": {
        "id": "5lSSOKi-7EbH"
      }
    },
    {
      "cell_type": "code",
      "metadata": {
        "colab": {
          "base_uri": "https://localhost:8080/"
        },
        "id": "663233ef",
        "outputId": "8316aad8-f0e0-49bd-ee5f-af97bafff656"
      },
      "source": [
        "from collections import Counter\n",
        "import re\n",
        "\n",
        "def count_word_frequency(filepath):\n",
        "  \"\"\"Reads a text file and counts the frequency of each word.\"\"\"\n",
        "  try:\n",
        "    with open(filepath, 'r', encoding='utf-8') as file:\n",
        "      text = file.read().lower() # Read file and convert to lowercase\n",
        "      words = re.findall(r'\\b\\w+\\b', text) # Find all words using regex\n",
        "      word_counts = Counter(words) # Count word frequencies\n",
        "      return word_counts\n",
        "  except FileNotFoundError:\n",
        "    return \"Error: The file was not found.\"\n",
        "  except Exception as e:\n",
        "    return f\"An error occurred: {e}\"\n",
        "\n",
        "# Example usage:\n",
        "# Create a dummy text file for demonstration\n",
        "with open(\"sample.txt\", \"w\", encoding='utf-8') as f:\n",
        "    f.write(\"This is a sample text file. This file is for sample purposes.\")\n",
        "\n",
        "filepath = \"sample.txt\"\n",
        "word_frequencies = count_word_frequency(filepath)\n",
        "\n",
        "if isinstance(word_frequencies, dict):\n",
        "  for word, count in word_frequencies.items():\n",
        "    print(f\"{word}: {count}\")\n",
        "else:\n",
        "  print(word_frequencies)"
      ],
      "execution_count": 4,
      "outputs": [
        {
          "output_type": "stream",
          "name": "stdout",
          "text": [
            "this: 2\n",
            "is: 2\n",
            "a: 1\n",
            "sample: 2\n",
            "text: 1\n",
            "file: 2\n",
            "for: 1\n",
            "purposes: 1\n"
          ]
        }
      ]
    },
    {
      "cell_type": "markdown",
      "source": [
        "Absolutely! The code you selected reads a text file, counts the frequency of each word, and then prints the word counts. Here's a breakdown:\n",
        "\n",
        "from collections import Counter: This line imports the Counter class from the collections module. Counter is a specialized dictionary subclass for counting hashable objects.\n",
        "import re: This line imports the re module, which provides regular expression operations.\n",
        "def count_word_frequency(filepath):: This defines a function named count_word_frequency that takes one argument, filepath, which is the path to the text file.\n",
        "\"\"\"Reads a text file and counts the frequency of each word.\"\"\": This is a docstring explaining what the function does.\n",
        "try:: This block starts a try statement to handle potential errors, such as the file not being found.\n",
        "with open(filepath, 'r', encoding='utf-8') as file:: This opens the file specified by filepath in read mode ('r') with UTF-8 encoding. The with statement ensures the file is automatically closed even if errors occur.\n",
        "text = file.read().lower(): This reads the entire content of the file into the text variable and converts it to lowercase using .lower(). This makes the word counting case-insensitive.\n",
        "words = re.findall(r'\\b\\w+\\b', text): This line uses a regular expression to find all words in the text.\n",
        "re.findall() finds all occurrences of the pattern in the string.\n",
        "r'\\b\\w+\\b' is the regular expression pattern:\n",
        "\\b is a word boundary, ensuring that only whole words are matched.\n",
        "\\w+ matches one or more word characters (letters, numbers, and underscore).\n",
        "word_counts = Counter(words): This creates a Counter object named word_counts from the list of words. The Counter automatically counts the occurrences of each unique word.\n",
        "return word_counts: The function returns the word_counts Counter object.\n",
        "except FileNotFoundError:: This block handles the specific error if the file specified by filepath is not found. It returns an error message.\n",
        "except Exception as e:: This is a general exception handler for any other errors that might occur during the file processing. It returns a generic error message including the specific error.\n",
        "# Example usage:: This comment indicates the following lines demonstrate how to use the function.\n",
        "with open(\"sample.txt\", \"w\", encoding='utf-8') as f:: This code creates a dummy text file named \"sample.txt\" for demonstration purposes.\n",
        "f.write(\"This is a sample text file. This file is for sample purposes.\"): This writes some sample text into the dummy file.\n",
        "filepath = \"sample.txt\": This sets the filepath variable to the name of the dummy file.\n",
        "word_frequencies = count_word_frequency(filepath): This calls the count_word_frequency function with the dummy file's path and stores the returned word counts in the word_frequencies variable.\n",
        "if isinstance(word_frequencies, dict):: This checks if the result returned by the function is a dictionary (which Counter is a subclass of). This is to ensure the function didn't return an error string.\n",
        "for word, count in word_frequencies.items():: If the result is a dictionary, this loop iterates through each word and its count in the word_frequencies.\n",
        "print(f\"{word}: {count}\"): This prints each word and its corresponding count.\n",
        "else:: If the result is not a dictionary (meaning an error occurred), this block is executed.\n",
        "print(word_frequencies): This prints the error message returned by the function.\n"
      ],
      "metadata": {
        "id": "15vFd7T_7fI6"
      }
    },
    {
      "cell_type": "markdown",
      "source": [
        "● Use Cursor AI to generate a Python class called Book with attributes title, author, and\n",
        "a method summary() that prints the details."
      ],
      "metadata": {
        "id": "uVhBaKo4713b"
      }
    },
    {
      "cell_type": "code",
      "metadata": {
        "colab": {
          "base_uri": "https://localhost:8080/"
        },
        "id": "b51610f2",
        "outputId": "4a48ffa3-5aff-498d-b11a-ddae84d08f71"
      },
      "source": [
        "class Book:\n",
        "  \"\"\"Represents a book with title and author.\"\"\"\n",
        "  def __init__(self, title, author):\n",
        "    self.title = title\n",
        "    self.author = author\n",
        "\n",
        "  def summary(self):\n",
        "    \"\"\"Prints the details of the book.\"\"\"\n",
        "    print(f\"Title: {self.title}\")\n",
        "    print(f\"Author: {self.author}\")\n",
        "\n",
        "# Example usage:\n",
        "my_book = Book(\"The Hitchhiker's Guide to the Galaxy\", \"Douglas Adams\")\n",
        "my_book.summary()"
      ],
      "execution_count": 5,
      "outputs": [
        {
          "output_type": "stream",
          "name": "stdout",
          "text": [
            "Title: The Hitchhiker's Guide to the Galaxy\n",
            "Author: Douglas Adams\n"
          ]
        }
      ]
    },
    {
      "cell_type": "markdown",
      "source": [
        "Certainly! The code you selected defines a Python class called Book and demonstrates how to use it. Here's a breakdown:\n",
        "\n",
        "class Book:: This line defines a new class named Book. Classes are blueprints for creating objects.\n",
        "\"\"\"Represents a book with title and author.\"\"\": This is a docstring for the class, explaining its purpose.\n",
        "def __init__(self, title, author):: This is the constructor method. It's called when you create a new Book object.\n",
        "self: Refers to the instance of the class being created.\n",
        "title: A parameter to pass the title of the book when creating an object.\n",
        "author: A parameter to pass the author of the book when creating an object.\n",
        "self.title = title and self.author = author: These lines assign the values passed to the constructor to the title and author attributes of the object.\n",
        "def summary(self):: This defines a method called summary for the Book class. Methods are functions that belong to a class.\n",
        "self: Refers to the instance of the class on which the method is called.\n",
        "\"\"\"Prints the details of the book.\"\"\": This is a docstring for the summary method.\n",
        "print(f\"Title: {self.title}\"): This line prints the title of the book using the title attribute of the object.\n",
        "print(f\"Author: {self.author}\"): This line prints the author of the book using the author attribute of the object.\n",
        "# Example usage:: This is a comment indicating the following lines demonstrate how to use the class.\n",
        "my_book = Book(\"The Hitchhiker's Guide to the Galaxy\", \"Douglas Adams\"): This line creates a new object (an instance) of the Book class. It calls the __init__ constructor, passing \"The Hitchhiker's Guide to the Galaxy\" as the title and \"Douglas Adams\" as the author. The created object is assigned to the variable my_book.\n",
        "my_book.summary(): This line calls the summary() method on the my_book object. This executes the code inside the summary method, printing the title and author of my_book.\n"
      ],
      "metadata": {
        "id": "B06hUaVq8TPA"
      }
    },
    {
      "cell_type": "markdown",
      "source": [
        "Ask Gemini to write a program that checks whether a number is an Armstrong\n",
        "number, and then modify it using Cursor AI to improve performance or structure."
      ],
      "metadata": {
        "id": "dQjiSzh78Vae"
      }
    },
    {
      "cell_type": "code",
      "metadata": {
        "colab": {
          "base_uri": "https://localhost:8080/"
        },
        "id": "f5a12706",
        "outputId": "d0ec1f5b-e343-453b-850e-4812444b4152"
      },
      "source": [
        "def is_armstrong_number(number):\n",
        "  \"\"\"Checks if a number is an Armstrong number.\"\"\"\n",
        "  # Convert the number to a string to get the number of digits\n",
        "  num_str = str(number)\n",
        "  num_digits = len(num_str)\n",
        "\n",
        "  # Calculate the sum of digits raised to the power of the number of digits\n",
        "  armstrong_sum = 0\n",
        "  for digit in num_str:\n",
        "    armstrong_sum += int(digit) ** num_digits\n",
        "\n",
        "  # Check if the number is equal to the calculated sum\n",
        "  return number == armstrong_sum\n",
        "\n",
        "# Example usage:\n",
        "print(is_armstrong_number(153)) # 1^3 + 5^3 + 3^3 = 1 + 125 + 27 = 153 (True)\n",
        "print(is_armstrong_number(123)) # 1^3 + 2^3 + 3^3 = 1 + 8 + 27 = 36 (False)"
      ],
      "execution_count": 6,
      "outputs": [
        {
          "output_type": "stream",
          "name": "stdout",
          "text": [
            "True\n",
            "False\n"
          ]
        }
      ]
    },
    {
      "cell_type": "markdown",
      "source": [
        "Absolutely! The code you selected defines a Python function called is_armstrong_number that checks if a given number is an Armstrong number. Here's a breakdown:\n",
        "\n",
        "def is_armstrong_number(number):: This line defines the function is_armstrong_number that takes one argument, number.\n",
        "\"\"\"Checks if a number is an Armstrong number.\"\"\": This is a docstring explaining the purpose of the function.\n",
        "num_str = str(number): This converts the input number into a string. This is done to easily determine the number of digits in the number and to iterate through each digit.\n",
        "num_digits = len(num_str): This calculates the number of digits in the number by getting the length of the string representation.\n",
        "armstrong_sum = 0: This initializes a variable armstrong_sum to 0. This variable will store the sum of each digit raised to the power of the number of digits.\n",
        "for digit in num_str:: This loop iterates through each character (which represents a digit) in the num_str string.\n",
        "armstrong_sum += int(digit) ** num_digits: Inside the loop, for each digit:\n",
        "int(digit) converts the digit character back to an integer.\n",
        "** num_digits raises the integer digit to the power of num_digits (the total number of digits in the original number).\n",
        "+= adds the result to the armstrong_sum.\n",
        "return number == armstrong_sum: After the loop finishes, this line checks if the original number is equal to the calculated armstrong_sum. If they are equal, the function returns True (indicating it's an Armstrong number); otherwise, it returns False.\n",
        "# Example usage:: This is a comment indicating the following lines demonstrate how to use the function.\n",
        "print(is_armstrong_number(153)): This calls the function with 153. The calculation is 1³ + 5³ + 3³ = 1 + 125 + 27 = 153, so it prints True.\n",
        "print(is_armstrong_number(123)): This calls the function with 123. The calculation is 1³ + 2³ + 3³ = 1 + 8 + 27 = 36, which is not equal to 123, so it prints False.\n"
      ],
      "metadata": {
        "id": "gsTyNti39KfW"
      }
    },
    {
      "cell_type": "markdown",
      "source": [],
      "metadata": {
        "id": "fPXTkkYs868L"
      }
    },
    {
      "cell_type": "markdown",
      "source": [
        "Ask Gemini to write a program that checks whether a number is an Armstrong\n",
        "number, and then modify it using Cursor AI to improve performance or structure."
      ],
      "metadata": {
        "id": "uKyLdkYE8uXx"
      }
    },
    {
      "cell_type": "markdown",
      "source": [
        "Use both Gemini and Cursor AI to generate code for sorting a list of dictionaries by a\n",
        "specific key (e.g., age)."
      ],
      "metadata": {
        "id": "wYxxCe199VUw"
      }
    },
    {
      "cell_type": "markdown",
      "source": [],
      "metadata": {
        "id": "pOBjHlmj8kck"
      }
    },
    {
      "cell_type": "code",
      "metadata": {
        "colab": {
          "base_uri": "https://localhost:8080/"
        },
        "id": "af7c8a28",
        "outputId": "2166df42-f284-4347-f7d8-822572348109"
      },
      "source": [
        "def sort_list_of_dicts(list_of_dicts, key_to_sort_by):\n",
        "  \"\"\"Sorts a list of dictionaries by a specific key.\"\"\"\n",
        "  return sorted(list_of_dicts, key=lambda x: x[key_to_sort_by])\n",
        "\n",
        "# Example usage:\n",
        "data = [\n",
        "    {'name': 'Alice', 'age': 30},\n",
        "    {'name': 'Bob', 'age': 22},\n",
        "    {'name': 'Charlie', 'age': 35},\n",
        "    {'name': 'David', 'age': 28}\n",
        "]\n",
        "\n",
        "sorted_data = sort_list_of_dicts(data, 'age')\n",
        "print(sorted_data)\n",
        "\n",
        "sorted_data_by_name = sort_list_of_dicts(data, 'name')\n",
        "print(sorted_data_by_name)"
      ],
      "execution_count": 7,
      "outputs": [
        {
          "output_type": "stream",
          "name": "stdout",
          "text": [
            "[{'name': 'Bob', 'age': 22}, {'name': 'David', 'age': 28}, {'name': 'Alice', 'age': 30}, {'name': 'Charlie', 'age': 35}]\n",
            "[{'name': 'Alice', 'age': 30}, {'name': 'Bob', 'age': 22}, {'name': 'Charlie', 'age': 35}, {'name': 'David', 'age': 28}]\n"
          ]
        }
      ]
    },
    {
      "cell_type": "markdown",
      "source": [
        "Certainly! The code you selected defines a Python function that sorts a list of dictionaries by a specific key and provides examples of how to use it. Here's a breakdown:\n",
        "\n",
        "def sort_list_of_dicts(list_of_dicts, key_to_sort_by):: This line defines a function named sort_list_of_dicts that takes two arguments:\n",
        "list_of_dicts: The list of dictionaries that you want to sort.\n",
        "key_to_sort_by: A string representing the key within each dictionary that you want to use for sorting.\n",
        "\"\"\"Sorts a list of dictionaries by a specific key.\"\"\": This is a docstring explaining the purpose of the function.\n",
        "return sorted(list_of_dicts, key=lambda x: x[key_to_sort_by]): This is the core of the sorting logic:\n",
        "sorted(): This is a built-in Python function that returns a new sorted list from the items in an iterable.\n",
        "list_of_dicts: This is the iterable (your list of dictionaries) that sorted() will operate on.\n",
        "key=lambda x: x[key_to_sort_by]: This is the crucial part that tells sorted() how to determine the sorting order.\n",
        "lambda x:: This defines a small, anonymous function (a lambda function). It takes one argument, x, which in this context will be each dictionary in the list_of_dicts as sorted() iterates through them.\n",
        "x[key_to_sort_by]: This accesses the value associated with the key_to_sort_by string within the current dictionary x. The sorted() function will use these values to compare and order the dictionaries.\n",
        "# Example usage:: This is a comment indicating the following lines demonstrate how to use the function.\n",
        "data = [...]: This creates a sample list of dictionaries named data.\n",
        "sorted_data = sort_list_of_dicts(data, 'age'): This calls the sort_list_of_dicts function with the data list and the key 'age'. It sorts the list based on the 'age' values and assigns the resulting sorted list to sorted_data.\n",
        "print(sorted_data): This prints the sorted_data list.\n",
        "sorted_data_by_name = sort_list_of_dicts(data, 'name'): This calls the sort_list_of_dicts function again, this time sorting the data list by the 'name' key.\n",
        "print(sorted_data_by_name): This prints the sorted_data_by_name list.\n",
        "In essence, the code uses the sorted() function with a lambda function to provide a custom sorting key based on the value of a specified key within each dictionary in the list.\n",
        "\n"
      ],
      "metadata": {
        "id": "SYzFBern9kjv"
      }
    }
  ]
}